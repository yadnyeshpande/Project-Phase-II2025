{
 "cells": [
  {
   "cell_type": "code",
   "execution_count": 9,
   "id": "ebbc4e1f-68ca-477e-ad91-00fc9122ffc9",
   "metadata": {},
   "outputs": [
    {
     "ename": "TypeError",
     "evalue": "only length-1 arrays can be converted to Python scalars",
     "output_type": "error",
     "traceback": [
      "\u001b[31m---------------------------------------------------------------------------\u001b[39m",
      "\u001b[31mTypeError\u001b[39m                                 Traceback (most recent call last)",
      "\u001b[36mCell\u001b[39m\u001b[36m \u001b[39m\u001b[32mIn[9]\u001b[39m\u001b[32m, line 25\u001b[39m\n\u001b[32m     22\u001b[39m     _, thresh_val = cv2.threshold(img, \u001b[32m0\u001b[39m, \u001b[32m255\u001b[39m, cv2.THRESH_BINARY + cv2.THRESH_OTSU)\n\u001b[32m     24\u001b[39m     \u001b[38;5;66;03m# Print threshold intensity\u001b[39;00m\n\u001b[32m---> \u001b[39m\u001b[32m25\u001b[39m     \u001b[38;5;28mprint\u001b[39m(\u001b[33mf\u001b[39m\u001b[33m\"\u001b[39m\u001b[33mOtsu\u001b[39m\u001b[33m'\u001b[39m\u001b[33ms threshold intensity value: \u001b[39m\u001b[38;5;132;01m{\u001b[39;00m\u001b[38;5;28;43mint\u001b[39;49m\u001b[43m(\u001b[49m\u001b[43mthresh_val\u001b[49m\u001b[43m)\u001b[49m\u001b[38;5;132;01m}\u001b[39;00m\u001b[33m\"\u001b[39m)\n\u001b[32m     26\u001b[39m \u001b[38;5;28;01melse\u001b[39;00m:\n\u001b[32m     27\u001b[39m     \u001b[38;5;28mprint\u001b[39m(\u001b[33m\"\u001b[39m\u001b[33m❌ Error: Image file could not be loaded. Check if it\u001b[39m\u001b[33m'\u001b[39m\u001b[33ms a valid image.\u001b[39m\u001b[33m\"\u001b[39m)\n",
      "\u001b[31mTypeError\u001b[39m: only length-1 arrays can be converted to Python scalars"
     ]
    }
   ],
   "source": [
    "import cv2\n",
    "import os\n",
    "\n",
    "# Image path (correct and use raw string to avoid path issues)\n",
    "img_path = r\"C:\\Users\\MR.SOMESH\\Downloads\\demo\\z3jxFJmzRw248RSZs-cNIw_3cd1bfd08e3a4a85ba3f80e23b4c1df1_dimes3.jpg\"\n",
    "# Check if the file exists\n",
    "if os.path.exists(img_path):\n",
    "    # Load the image in grayscale\n",
    "    img = cv2.imread(img_path, cv2.IMREAD_GRAYSCALE)\n",
    "\n",
    "    # Double-check if image was read correctly\n",
    "    if img is not None:\n",
    "        # Resize image (optional)\n",
    "        resized_img = cv2.resize(img, (300, 300))\n",
    "\n",
    "        # Show the grayscale image\n",
    "        cv2.imshow(\"gray\", resized_img)\n",
    "        cv2.waitKey(0)\n",
    "        cv2.destroyAllWindows()\n",
    "\n",
    "        # Apply Otsu's thresholding\n",
    "        _, thresh_val = cv2.threshold(img, 0, 255, cv2.THRESH_BINARY + cv2.THRESH_OTSU)\n",
    "\n",
    "        # Print threshold intensity\n",
    "        print(f\"Otsu's threshold intensity value: {int(thresh_val)}\")\n",
    "    else:\n",
    "        print(\"❌ Error: Image file could not be loaded. Check if it's a valid image.\")\n",
    "else:\n",
    "    print(\"❌ Error: File not found. Check the file path.\")\n"
   ]
  },
  {
   "cell_type": "code",
   "execution_count": null,
   "id": "df7731ba-6701-4e10-a161-af0978cda1c4",
   "metadata": {},
   "outputs": [],
   "source": [
    "import cv2\n",
    "import os\n",
    "import numpy as np\n",
    "\n",
    "# Image path\n",
    "img_path = r\"C:\\Users\\MR.SOMESH\\Downloads\\demo\\z3jxFJmzRw248RSZs-cNIw_3cd1bfd08e3a4a85ba3f80e23b4c1df1_dimes3.jpg\"\n",
    "# Check if the file exists\n",
    "# Check if the file exists\n",
    "if os.path.exists(img_path):\n",
    "    # Load the image in grayscale\n",
    "    img = cv2.imread(img_path, cv2.IMREAD_GRAYSCALE)\n",
    "\n",
    "    if img is not None:\n",
    "        # Resize for display (optional)\n",
    "        resized_img = cv2.resize(img, (300, 300))\n",
    "        cv2.imshow(\"gray\", resized_img)\n",
    "        cv2.waitKey(0)\n",
    "        cv2.destroyAllWindows()\n",
    "\n",
    "        # Apply Otsu's thresholding\n",
    "        otsu_thresh_val, binary_img = cv2.threshold(img, 0, 255, cv2.THRESH_BINARY + cv2.THRESH_OTSU)\n",
    "        print(f\"Otsu's threshold intensity value: {int(otsu_thresh_val)}\")\n",
    "\n",
    "        # Count \"true\" pixels (white = 255)\n",
    "        true_pixel_count = np.sum(binary_img == 255)\n",
    "        print(f\"Number of true (white) pixels in binary segmented image: {true_pixel_count}\")\n",
    "    else:\n",
    "        print(\"❌ Error: Failed to load image.\") \n",
    "else:\n",
    "    print(\"❌ Error: File path is incorrect or file does not exist.\")\n"
   ]
  },
  {
   "cell_type": "code",
   "execution_count": null,
   "id": "c4d45b84-fb8b-43c8-9536-acea159490f8",
   "metadata": {},
   "outputs": [],
   "source": [
    " "
   ]
  }
 ],
 "metadata": {
  "kernelspec": {
   "display_name": "Python 3 (ipykernel)",
   "language": "python",
   "name": "python3"
  },
  "language_info": {
   "codemirror_mode": {
    "name": "ipython",
    "version": 3
   },
   "file_extension": ".py",
   "mimetype": "text/x-python",
   "name": "python",
   "nbconvert_exporter": "python",
   "pygments_lexer": "ipython3",
   "version": "3.12.7"
  }
 },
 "nbformat": 4,
 "nbformat_minor": 5
}
